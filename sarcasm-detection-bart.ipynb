{
 "cells": [
  {
   "cell_type": "code",
   "execution_count": 59,
   "metadata": {
    "_cell_guid": "b1076dfc-b9ad-4769-8c92-a6c4dae69d19",
    "_uuid": "8f2839f25d086af736a60e9eeb907d3b93b6e0e5",
    "execution": {
     "iopub.execute_input": "2022-06-05T18:58:33.591393Z",
     "iopub.status.busy": "2022-06-05T18:58:33.591042Z",
     "iopub.status.idle": "2022-06-05T18:58:33.607049Z",
     "shell.execute_reply": "2022-06-05T18:58:33.606031Z",
     "shell.execute_reply.started": "2022-06-05T18:58:33.591364Z"
    }
   },
   "outputs": [
    {
     "name": "stdout",
     "output_type": "stream",
     "text": [
      "['sarcasmdetectionprocessed']\n"
     ]
    }
   ],
   "source": [
    "# This Python 3 environment comes with many helpful analytics libraries installed\n",
    "# It is defined by the kaggle/python Docker image: https://github.com/kaggle/docker-python\n",
    "# For example, here's several helpful packages to load\n",
    "\"\"\"\n",
    "    Package Installation\n",
    "\"\"\"\n",
    "__author__ = \"SakibApon\"\n",
    "__email__ = \"sakibapon7@gmail.com\"\n",
    "\n",
    "import pandas as pd\n",
    "import numpy as np\n",
    "import matplotlib.pyplot as plt\n",
    "import seaborn as sns\n",
    "from numpy import argmax\n",
    "from sklearn.model_selection import train_test_split\n",
    "from sklearn.preprocessing import LabelEncoder\n",
    "from tensorflow.keras.models import Model\n",
    "from tensorflow.keras.layers import LSTM, Activation, Dense, Dropout, Input, Embedding\n",
    "from tensorflow.keras.optimizers import RMSprop\n",
    "from tensorflow.keras.preprocessing.text import Tokenizer\n",
    "from tensorflow.keras.preprocessing import sequence\n",
    "from tensorflow.keras.utils import to_categorical\n",
    "from tensorflow.keras.callbacks import EarlyStopping\n",
    "from sklearn.feature_extraction.text import CountVectorizer\n",
    "from tensorflow.keras.preprocessing.text import Tokenizer\n",
    "from tensorflow.keras.preprocessing.sequence import pad_sequences\n",
    "from tensorflow.keras.models import Sequential\n",
    "from tensorflow.keras.layers import Dense, Embedding, LSTM, SpatialDropout1D\n",
    "from sklearn.model_selection import train_test_split\n",
    "from keras.utils.np_utils import to_categorical\n",
    "%matplotlib inline\n",
    "import os\n",
    "import re\n",
    "print(os.listdir(\"../input\"))\n",
    "from sklearn.metrics import accuracy_score, mean_squared_error, classification_report, confusion_matrix, plot_confusion_matrix\n",
    "# Any results you write to the current directory are saved as output."
   ]
  },
  {
   "cell_type": "code",
   "execution_count": 21,
   "metadata": {
    "execution": {
     "iopub.execute_input": "2022-06-05T16:41:56.057812Z",
     "iopub.status.busy": "2022-06-05T16:41:56.057439Z",
     "iopub.status.idle": "2022-06-05T16:41:56.190177Z",
     "shell.execute_reply": "2022-06-05T16:41:56.189440Z",
     "shell.execute_reply.started": "2022-06-05T16:41:56.057780Z"
    }
   },
   "outputs": [
    {
     "data": {
      "text/html": [
       "<div>\n",
       "<style scoped>\n",
       "    .dataframe tbody tr th:only-of-type {\n",
       "        vertical-align: middle;\n",
       "    }\n",
       "\n",
       "    .dataframe tbody tr th {\n",
       "        vertical-align: top;\n",
       "    }\n",
       "\n",
       "    .dataframe thead th {\n",
       "        text-align: right;\n",
       "    }\n",
       "</style>\n",
       "<table border=\"1\" class=\"dataframe\">\n",
       "  <thead>\n",
       "    <tr style=\"text-align: right;\">\n",
       "      <th></th>\n",
       "      <th>Unnamed: 0</th>\n",
       "      <th>Tweet</th>\n",
       "      <th>Label</th>\n",
       "    </tr>\n",
       "  </thead>\n",
       "  <tbody>\n",
       "    <tr>\n",
       "      <th>0</th>\n",
       "      <td>0</td>\n",
       "      <td>I love finding out who your true friends are. ...</td>\n",
       "      <td>0</td>\n",
       "    </tr>\n",
       "    <tr>\n",
       "      <th>1</th>\n",
       "      <td>1</td>\n",
       "      <td>USER :/ bye</td>\n",
       "      <td>0</td>\n",
       "    </tr>\n",
       "    <tr>\n",
       "      <th>2</th>\n",
       "      <td>2</td>\n",
       "      <td>USER I absolutely love Kanye's voice USER</td>\n",
       "      <td>0</td>\n",
       "    </tr>\n",
       "    <tr>\n",
       "      <th>3</th>\n",
       "      <td>3</td>\n",
       "      <td>We're hiring a new Kiosk Supervisor! Think you...</td>\n",
       "      <td>0</td>\n",
       "    </tr>\n",
       "    <tr>\n",
       "      <th>4</th>\n",
       "      <td>4</td>\n",
       "      <td>Every time I see Dave Grohl with his long hipp...</td>\n",
       "      <td>0</td>\n",
       "    </tr>\n",
       "  </tbody>\n",
       "</table>\n",
       "</div>"
      ],
      "text/plain": [
       "   Unnamed: 0                                              Tweet  Label\n",
       "0           0  I love finding out who your true friends are. ...      0\n",
       "1           1                                        USER :/ bye      0\n",
       "2           2          USER I absolutely love Kanye's voice USER      0\n",
       "3           3  We're hiring a new Kiosk Supervisor! Think you...      0\n",
       "4           4  Every time I see Dave Grohl with his long hipp...      0"
      ]
     },
     "execution_count": 21,
     "metadata": {},
     "output_type": "execute_result"
    }
   ],
   "source": [
    "df = pd.read_csv(\"../input/sarcasmdetectionprocessed/SarcasmDetectionProcessed.csv\")\n",
    "df.head()"
   ]
  },
  {
   "cell_type": "code",
   "execution_count": 22,
   "metadata": {
    "execution": {
     "iopub.execute_input": "2022-06-05T16:41:57.220223Z",
     "iopub.status.busy": "2022-06-05T16:41:57.219168Z",
     "iopub.status.idle": "2022-06-05T16:41:57.406467Z",
     "shell.execute_reply": "2022-06-05T16:41:57.405473Z",
     "shell.execute_reply.started": "2022-06-05T16:41:57.220179Z"
    }
   },
   "outputs": [
    {
     "name": "stderr",
     "output_type": "stream",
     "text": [
      "/opt/conda/lib/python3.7/site-packages/seaborn/_decorators.py:43: FutureWarning: Pass the following variable as a keyword arg: x. From version 0.12, the only valid positional argument will be `data`, and passing other arguments without an explicit keyword will result in an error or misinterpretation.\n",
      "  FutureWarning\n"
     ]
    },
    {
     "data": {
      "text/plain": [
       "Text(0.5, 1.0, 'Sarcasm vs Non-sarcasm')"
      ]
     },
     "execution_count": 22,
     "metadata": {},
     "output_type": "execute_result"
    },
    {
     "data": {
      "image/png": "[encoded data removed]",
      "text/plain": [
       "<Figure size 432x288 with 1 Axes>"
      ]
     },
     "metadata": {
      "needs_background": "light"
     },
     "output_type": "display_data"
    }
   ],
   "source": [
    "sns.countplot(df.Label)\n",
    "plt.xlabel('Label')\n",
    "plt.title('Sarcasm vs Non-sarcasm')"
   ]
  },
  {
   "cell_type": "code",
   "execution_count": 26,
   "metadata": {
    "execution": {
     "iopub.execute_input": "2022-06-05T16:43:43.057950Z",
     "iopub.status.busy": "2022-06-05T16:43:43.057480Z",
     "iopub.status.idle": "2022-06-05T16:43:43.067750Z",
     "shell.execute_reply": "2022-06-05T16:43:43.066410Z",
     "shell.execute_reply.started": "2022-06-05T16:43:43.057909Z"
    }
   },
   "outputs": [],
   "source": [
    "labels = df.Label.values\n",
    "sentences = df.Tweet.values"
   ]
  },
  {
   "cell_type": "code",
   "execution_count": 29,
   "metadata": {
    "execution": {
     "iopub.execute_input": "2022-06-05T16:49:24.681197Z",
     "iopub.status.busy": "2022-06-05T16:49:24.680839Z",
     "iopub.status.idle": "2022-06-05T16:50:21.875490Z",
     "shell.execute_reply": "2022-06-05T16:50:21.874627Z",
     "shell.execute_reply.started": "2022-06-05T16:49:24.681169Z"
    }
   },
   "outputs": [],
   "source": [
    "import tensorflow as tf\n",
    "import matplotlib.pyplot as plt\n",
    "from transformers import TFBertModel, BertTokenizer\n",
    "from sklearn.model_selection import train_test_split\n",
    "\n",
    "PRE_TRAINED_MODEL_NAME = 'bert-base-uncased'\n",
    "tokenizer = BertTokenizer.from_pretrained(PRE_TRAINED_MODEL_NAME,do_lower_case = True)\n",
    "\n",
    "def encoder(sentences):\n",
    "    ids = []\n",
    "    for sentence in sentences:\n",
    "        encoding = tokenizer.encode_plus(\n",
    "        sentence,\n",
    "        max_length=16,\n",
    "        truncation = True,\n",
    "        add_special_tokens=True,\n",
    "        return_token_type_ids=False,\n",
    "        pad_to_max_length=True,\n",
    "        return_attention_mask=False)\n",
    "        ids.append(encoding['input_ids'])\n",
    "    return ids\n",
    "\n",
    "#Train test split\n",
    "train_sents,test_sents, train_labels, test_labels  = train_test_split(sentences,labels,test_size=0.15)\n",
    "\n",
    "train_ids = encoder(train_sents)\n",
    "test_ids = encoder(test_sents) "
   ]
  },
  {
   "cell_type": "code",
   "execution_count": 30,
   "metadata": {
    "execution": {
     "iopub.execute_input": "2022-06-05T16:50:21.877943Z",
     "iopub.status.busy": "2022-06-05T16:50:21.877573Z",
     "iopub.status.idle": "2022-06-05T16:50:26.817478Z",
     "shell.execute_reply": "2022-06-05T16:50:26.816366Z",
     "shell.execute_reply.started": "2022-06-05T16:50:21.877908Z"
    }
   },
   "outputs": [
    {
     "name": "stderr",
     "output_type": "stream",
     "text": [
      "2022-06-05 16:50:22.212611: I tensorflow/stream_executor/cuda/cuda_gpu_executor.cc:937] successful NUMA node read from SysFS had negative value (-1), but there must be at least one NUMA node, so returning NUMA node zero\n",
      "2022-06-05 16:50:22.213691: I tensorflow/stream_executor/cuda/cuda_gpu_executor.cc:937] successful NUMA node read from SysFS had negative value (-1), but there must be at least one NUMA node, so returning NUMA node zero\n",
      "2022-06-05 16:50:22.214364: I tensorflow/stream_executor/cuda/cuda_gpu_executor.cc:937] successful NUMA node read from SysFS had negative value (-1), but there must be at least one NUMA node, so returning NUMA node zero\n",
      "2022-06-05 16:50:22.216502: I tensorflow/core/platform/cpu_feature_guard.cc:142] This TensorFlow binary is optimized with oneAPI Deep Neural Network Library (oneDNN) to use the following CPU instructions in performance-critical operations:  AVX2 AVX512F FMA\n",
      "To enable them in other operations, rebuild TensorFlow with the appropriate compiler flags.\n",
      "2022-06-05 16:50:22.216908: I tensorflow/stream_executor/cuda/cuda_gpu_executor.cc:937] successful NUMA node read from SysFS had negative value (-1), but there must be at least one NUMA node, so returning NUMA node zero\n",
      "2022-06-05 16:50:22.217798: I tensorflow/stream_executor/cuda/cuda_gpu_executor.cc:937] successful NUMA node read from SysFS had negative value (-1), but there must be at least one NUMA node, so returning NUMA node zero\n",
      "2022-06-05 16:50:22.218566: I tensorflow/stream_executor/cuda/cuda_gpu_executor.cc:937] successful NUMA node read from SysFS had negative value (-1), but there must be at least one NUMA node, so returning NUMA node zero\n",
      "2022-06-05 16:50:26.425748: I tensorflow/stream_executor/cuda/cuda_gpu_executor.cc:937] successful NUMA node read from SysFS had negative value (-1), but there must be at least one NUMA node, so returning NUMA node zero\n",
      "2022-06-05 16:50:26.426558: I tensorflow/stream_executor/cuda/cuda_gpu_executor.cc:937] successful NUMA node read from SysFS had negative value (-1), but there must be at least one NUMA node, so returning NUMA node zero\n",
      "2022-06-05 16:50:26.427266: I tensorflow/stream_executor/cuda/cuda_gpu_executor.cc:937] successful NUMA node read from SysFS had negative value (-1), but there must be at least one NUMA node, so returning NUMA node zero\n",
      "2022-06-05 16:50:26.427898: I tensorflow/core/common_runtime/gpu/gpu_device.cc:1510] Created device /job:localhost/replica:0/task:0/device:GPU:0 with 15047 MB memory:  -> device: 0, name: Tesla P100-PCIE-16GB, pci bus id: 0000:00:04.0, compute capability: 6.0\n"
     ]
    }
   ],
   "source": [
    "train_ids = tf.convert_to_tensor(train_ids)\n",
    "test_ids = tf.convert_to_tensor(test_ids)\n",
    "test_labels = tf.convert_to_tensor(test_labels)\n",
    "train_labels = tf.convert_to_tensor(train_labels)"
   ]
  },
  {
   "cell_type": "code",
   "execution_count": 36,
   "metadata": {
    "execution": {
     "iopub.execute_input": "2022-06-05T17:09:00.445591Z",
     "iopub.status.busy": "2022-06-05T17:09:00.445228Z",
     "iopub.status.idle": "2022-06-05T17:09:04.813463Z",
     "shell.execute_reply": "2022-06-05T17:09:04.812705Z",
     "shell.execute_reply.started": "2022-06-05T17:09:00.445545Z"
    }
   },
   "outputs": [
    {
     "name": "stderr",
     "output_type": "stream",
     "text": [
      "Some layers from the model checkpoint at bert-base-uncased were not used when initializing TFBertModel: ['mlm___cls', 'nsp___cls']\n",
      "- This IS expected if you are initializing TFBertModel from the checkpoint of a model trained on another task or with another architecture (e.g. initializing a BertForSequenceClassification model from a BertForPreTraining model).\n",
      "- This IS NOT expected if you are initializing TFBertModel from the checkpoint of a model that you expect to be exactly identical (initializing a BertForSequenceClassification model from a BertForSequenceClassification model).\n",
      "All the layers of TFBertModel were initialized from the model checkpoint at bert-base-uncased.\n",
      "If your task is similar to the task the model of the checkpoint was trained on, you can already use TFBertModel for predictions without further training.\n"
     ]
    }
   ],
   "source": [
    "bert_encoder = TFBertModel.from_pretrained('bert-base-uncased')\n",
    "input_word_ids = tf.keras.Input(shape=(16,), dtype=tf.int32, name=\"input_word_ids\")  \n",
    "embedding = bert_encoder([input_word_ids])\n",
    "dense = tf.keras.layers.Lambda(lambda seq: seq[:, 0, :])(embedding[0])\n",
    "dense = tf.keras.layers.Dense(1024, activation='relu')(dense)\n",
    "dense = tf.keras.layers.Dropout(0.5)(dense)\n",
    "dense = tf.keras.layers.Dense(512, activation='relu')(dense)\n",
    "dense = tf.keras.layers.Dropout(0.5)(dense)\n",
    "output = tf.keras.layers.Dense(1, activation='sigmoid')(dense)    \n",
    "\n",
    "model = tf.keras.Model(inputs=[input_word_ids], outputs=output)  "
   ]
  },
  {
   "cell_type": "code",
   "execution_count": 41,
   "metadata": {
    "execution": {
     "iopub.execute_input": "2022-06-05T17:10:49.969434Z",
     "iopub.status.busy": "2022-06-05T17:10:49.969089Z",
     "iopub.status.idle": "2022-06-05T17:10:50.014553Z",
     "shell.execute_reply": "2022-06-05T17:10:50.013604Z",
     "shell.execute_reply.started": "2022-06-05T17:10:49.969404Z"
    }
   },
   "outputs": [
    {
     "name": "stdout",
     "output_type": "stream",
     "text": [
      "Model: \"model_2\"\n",
      "_________________________________________________________________\n",
      "Layer (type)                 Output Shape              Param #   \n",
      "=================================================================\n",
      "input_word_ids (InputLayer)  [(None, 16)]              0         \n",
      "_________________________________________________________________\n",
      "tf_bert_model_2 (TFBertModel TFBaseModelOutputWithPool 109482240 \n",
      "_________________________________________________________________\n",
      "lambda_2 (Lambda)            (None, 768)               0         \n",
      "_________________________________________________________________\n",
      "dense_5 (Dense)              (None, 1024)              787456    \n",
      "_________________________________________________________________\n",
      "dropout_114 (Dropout)        (None, 1024)              0         \n",
      "_________________________________________________________________\n",
      "dense_6 (Dense)              (None, 512)               524800    \n",
      "_________________________________________________________________\n",
      "dropout_115 (Dropout)        (None, 512)               0         \n",
      "_________________________________________________________________\n",
      "dense_7 (Dense)              (None, 1)                 513       \n",
      "=================================================================\n",
      "Total params: 110,795,009\n",
      "Trainable params: 110,795,009\n",
      "Non-trainable params: 0\n",
      "_________________________________________________________________\n"
     ]
    }
   ],
   "source": [
    "import tensorflow_addons as tfa\n",
    "from tensorflow.keras.callbacks import ModelCheckpoint, EarlyStopping, ReduceLROnPlateau\n",
    "metrics = ['accuracy', tf.keras.metrics.Precision(), tf.keras.metrics.Recall(), tfa.metrics.F1Score(num_classes = 1),  tf.keras.metrics.AUC()]\n",
    "#callbacks\n",
    "checkpoint = ModelCheckpoint('SarcasmBERT.h5', monitor='val_loss', mode='min', save_best_only=True, verbose=1)\n",
    "earlystop = EarlyStopping(monitor='val_loss', min_delta=0, patience=20, verbose=1, restore_best_weights=True)\n",
    "learning_rate_reduction = ReduceLROnPlateau(monitor='val_accuracy', patience=5, verbose=1, factor=0.2, min_lr=0.001)\n",
    "callbacks = [earlystop, checkpoint, learning_rate_reduction]\n",
    "\n",
    "model.compile(tf.keras.optimizers.Adam(1e-5), loss='binary_crossentropy', metrics = metrics)\n",
    "model.summary()"
   ]
  },
  {
   "cell_type": "code",
   "execution_count": 42,
   "metadata": {
    "execution": {
     "iopub.execute_input": "2022-06-05T17:11:04.983337Z",
     "iopub.status.busy": "2022-06-05T17:11:04.982499Z",
     "iopub.status.idle": "2022-06-05T18:29:40.230016Z",
     "shell.execute_reply": "2022-06-05T18:29:40.229216Z",
     "shell.execute_reply.started": "2022-06-05T17:11:04.983300Z"
    }
   },
   "outputs": [
    {
     "name": "stdout",
     "output_type": "stream",
     "text": [
      "Epoch 1/25\n",
      "1729/1729 [==============================] - 208s 111ms/step - loss: 0.5204 - accuracy: 0.7085 - precision_3: 0.5763 - recall_3: 0.4646 - f1_score: 0.4990 - auc_2: 0.7687 - val_loss: 0.4877 - val_accuracy: 0.7254 - val_precision_3: 0.6436 - val_recall_3: 0.4182 - val_f1_score: 0.5047 - val_auc_2: 0.8040\n",
      "Epoch 2/25\n",
      "1729/1729 [==============================] - 190s 110ms/step - loss: 0.4697 - accuracy: 0.7367 - precision_3: 0.6066 - recall_3: 0.5914 - f1_score: 0.4990 - auc_2: 0.8155 - val_loss: 0.4793 - val_accuracy: 0.7317 - val_precision_3: 0.5958 - val_recall_3: 0.6379 - val_f1_score: 0.5047 - val_auc_2: 0.8083\n",
      "Epoch 3/25\n",
      "1729/1729 [==============================] - 189s 109ms/step - loss: 0.4395 - accuracy: 0.7557 - precision_3: 0.6204 - recall_3: 0.6833 - f1_score: 0.4990 - auc_2: 0.8378 - val_loss: 0.4980 - val_accuracy: 0.7096 - val_precision_3: 0.5480 - val_recall_3: 0.7976 - val_f1_score: 0.5047 - val_auc_2: 0.8034\n",
      "Epoch 4/25\n",
      "1729/1729 [==============================] - 186s 108ms/step - loss: 0.4036 - accuracy: 0.7799 - precision_3: 0.6399 - recall_3: 0.7726 - f1_score: 0.4990 - auc_2: 0.8617 - val_loss: 0.5363 - val_accuracy: 0.7186 - val_precision_3: 0.5759 - val_recall_3: 0.6310 - val_f1_score: 0.5047 - val_auc_2: 0.7930\n",
      "Epoch 5/25\n",
      "1729/1729 [==============================] - 189s 109ms/step - loss: 0.3678 - accuracy: 0.8059 - precision_3: 0.6675 - recall_3: 0.8292 - f1_score: 0.4990 - auc_2: 0.8845 - val_loss: 0.5730 - val_accuracy: 0.7012 - val_precision_3: 0.5469 - val_recall_3: 0.6686 - val_f1_score: 0.5047 - val_auc_2: 0.7728\n",
      "Epoch 6/25\n",
      "1729/1729 [==============================] - 189s 110ms/step - loss: 0.3326 - accuracy: 0.8312 - precision_3: 0.6951 - recall_3: 0.8772 - f1_score: 0.4990 - auc_2: 0.9050 - val_loss: 0.6073 - val_accuracy: 0.6888 - val_precision_3: 0.5283 - val_recall_3: 0.7278 - val_f1_score: 0.5047 - val_auc_2: 0.7582\n",
      "Epoch 7/25\n",
      "1729/1729 [==============================] - 191s 111ms/step - loss: 0.3065 - accuracy: 0.8472 - precision_3: 0.7150 - recall_3: 0.8985 - f1_score: 0.4990 - auc_2: 0.9205 - val_loss: 0.7429 - val_accuracy: 0.6935 - val_precision_3: 0.5368 - val_recall_3: 0.6713 - val_f1_score: 0.5047 - val_auc_2: 0.7385\n",
      "Epoch 8/25\n",
      "1729/1729 [==============================] - 188s 109ms/step - loss: 0.2835 - accuracy: 0.8612 - precision_3: 0.7344 - recall_3: 0.9123 - f1_score: 0.4990 - auc_2: 0.9320 - val_loss: 0.8004 - val_accuracy: 0.6885 - val_precision_3: 0.5324 - val_recall_3: 0.6328 - val_f1_score: 0.5047 - val_auc_2: 0.7287\n",
      "Epoch 9/25\n",
      "1729/1729 [==============================] - 189s 109ms/step - loss: 0.2627 - accuracy: 0.8716 - precision_3: 0.7493 - recall_3: 0.9225 - f1_score: 0.4990 - auc_2: 0.9422 - val_loss: 0.8806 - val_accuracy: 0.6881 - val_precision_3: 0.5339 - val_recall_3: 0.6003 - val_f1_score: 0.5047 - val_auc_2: 0.7199\n",
      "Epoch 10/25\n",
      "1729/1729 [==============================] - 188s 109ms/step - loss: 0.2455 - accuracy: 0.8796 - precision_3: 0.7620 - recall_3: 0.9275 - f1_score: 0.4990 - auc_2: 0.9502 - val_loss: 0.9551 - val_accuracy: 0.6838 - val_precision_3: 0.5280 - val_recall_3: 0.5988 - val_f1_score: 0.5047 - val_auc_2: 0.7112\n",
      "Epoch 11/25\n",
      "1729/1729 [==============================] - 188s 109ms/step - loss: 0.2319 - accuracy: 0.8851 - precision_3: 0.7717 - recall_3: 0.9295 - f1_score: 0.4990 - auc_2: 0.9554 - val_loss: 1.0455 - val_accuracy: 0.6859 - val_precision_3: 0.5294 - val_recall_3: 0.6261 - val_f1_score: 0.5047 - val_auc_2: 0.7086\n",
      "Epoch 12/25\n",
      "1729/1729 [==============================] - 188s 109ms/step - loss: 0.2161 - accuracy: 0.8878 - precision_3: 0.7792 - recall_3: 0.9247 - f1_score: 0.4990 - auc_2: 0.9617 - val_loss: 1.2483 - val_accuracy: 0.6846 - val_precision_3: 0.5287 - val_recall_3: 0.6030 - val_f1_score: 0.5047 - val_auc_2: 0.6957\n",
      "Epoch 13/25\n",
      "1729/1729 [==============================] - 188s 109ms/step - loss: 0.2056 - accuracy: 0.8919 - precision_3: 0.7867 - recall_3: 0.9260 - f1_score: 0.4990 - auc_2: 0.9653 - val_loss: 1.0259 - val_accuracy: 0.6780 - val_precision_3: 0.5188 - val_recall_3: 0.6352 - val_f1_score: 0.5047 - val_auc_2: 0.7004\n",
      "Epoch 14/25\n",
      "1729/1729 [==============================] - 188s 109ms/step - loss: 0.1941 - accuracy: 0.8952 - precision_3: 0.7986 - recall_3: 0.9159 - f1_score: 0.4990 - auc_2: 0.9690 - val_loss: 1.4360 - val_accuracy: 0.6821 - val_precision_3: 0.5275 - val_recall_3: 0.5590 - val_f1_score: 0.5047 - val_auc_2: 0.6887\n",
      "Epoch 15/25\n",
      "1729/1729 [==============================] - 188s 109ms/step - loss: 0.1855 - accuracy: 0.8972 - precision_3: 0.8067 - recall_3: 0.9086 - f1_score: 0.4990 - auc_2: 0.9715 - val_loss: 1.5111 - val_accuracy: 0.6711 - val_precision_3: 0.5108 - val_recall_3: 0.6076 - val_f1_score: 0.5047 - val_auc_2: 0.6816\n",
      "Epoch 16/25\n",
      "1729/1729 [==============================] - 187s 108ms/step - loss: 0.1764 - accuracy: 0.9007 - precision_3: 0.8197 - recall_3: 0.8991 - f1_score: 0.4990 - auc_2: 0.9743 - val_loss: 1.6005 - val_accuracy: 0.6750 - val_precision_3: 0.5180 - val_recall_3: 0.5363 - val_f1_score: 0.5047 - val_auc_2: 0.6777\n",
      "Epoch 17/25\n",
      "1729/1729 [==============================] - 189s 109ms/step - loss: 0.1681 - accuracy: 0.9048 - precision_3: 0.8384 - recall_3: 0.8839 - f1_score: 0.4990 - auc_2: 0.9767 - val_loss: 1.5374 - val_accuracy: 0.6647 - val_precision_3: 0.5029 - val_recall_3: 0.5860 - val_f1_score: 0.5047 - val_auc_2: 0.6756\n",
      "Epoch 18/25\n",
      "1729/1729 [==============================] - 188s 109ms/step - loss: 0.1630 - accuracy: 0.9062 - precision_3: 0.8516 - recall_3: 0.8694 - f1_score: 0.4990 - auc_2: 0.9778 - val_loss: 1.6986 - val_accuracy: 0.6578 - val_precision_3: 0.4925 - val_recall_3: 0.4480 - val_f1_score: 0.5047 - val_auc_2: 0.6720\n",
      "Epoch 19/25\n",
      "1729/1729 [==============================] - 187s 108ms/step - loss: 0.1572 - accuracy: 0.9085 - precision_3: 0.8582 - recall_3: 0.8681 - f1_score: 0.4990 - auc_2: 0.9790 - val_loss: 1.7984 - val_accuracy: 0.6554 - val_precision_3: 0.4881 - val_recall_3: 0.4313 - val_f1_score: 0.5047 - val_auc_2: 0.6663\n",
      "Epoch 20/25\n",
      "1729/1729 [==============================] - 188s 109ms/step - loss: 0.1504 - accuracy: 0.9110 - precision_3: 0.8709 - recall_3: 0.8596 - f1_score: 0.4990 - auc_2: 0.9804 - val_loss: 1.6844 - val_accuracy: 0.6453 - val_precision_3: 0.4759 - val_recall_3: 0.4995 - val_f1_score: 0.5047 - val_auc_2: 0.6637\n",
      "Epoch 21/25\n",
      "1729/1729 [==============================] - 186s 107ms/step - loss: 0.1473 - accuracy: 0.9131 - precision_3: 0.8801 - recall_3: 0.8551 - f1_score: 0.4990 - auc_2: 0.9813 - val_loss: 1.6801 - val_accuracy: 0.6555 - val_precision_3: 0.4900 - val_recall_3: 0.5053 - val_f1_score: 0.5047 - val_auc_2: 0.6709\n",
      "Epoch 22/25\n",
      "1729/1729 [==============================] - 187s 108ms/step - loss: 0.1397 - accuracy: 0.9172 - precision_3: 0.8919 - recall_3: 0.8546 - f1_score: 0.4990 - auc_2: 0.9830 - val_loss: 1.8394 - val_accuracy: 0.6509 - val_precision_3: 0.4842 - val_recall_3: 0.5256 - val_f1_score: 0.5047 - val_auc_2: 0.6676\n",
      "Epoch 23/25\n",
      "1729/1729 [==============================] - 184s 106ms/step - loss: 0.1381 - accuracy: 0.9181 - precision_3: 0.8955 - recall_3: 0.8533 - f1_score: 0.4990 - auc_2: 0.9833 - val_loss: 2.0275 - val_accuracy: 0.6572 - val_precision_3: 0.4916 - val_recall_3: 0.4543 - val_f1_score: 0.5047 - val_auc_2: 0.6632\n",
      "Epoch 24/25\n",
      "1729/1729 [==============================] - 184s 107ms/step - loss: 0.1356 - accuracy: 0.9183 - precision_3: 0.8987 - recall_3: 0.8502 - f1_score: 0.4990 - auc_2: 0.9837 - val_loss: 1.9733 - val_accuracy: 0.6483 - val_precision_3: 0.4771 - val_recall_3: 0.4355 - val_f1_score: 0.5047 - val_auc_2: 0.6595\n",
      "Epoch 25/25\n",
      "1729/1729 [==============================] - 185s 107ms/step - loss: 0.1311 - accuracy: 0.9207 - precision_3: 0.9059 - recall_3: 0.8496 - f1_score: 0.4990 - auc_2: 0.9845 - val_loss: 1.8835 - val_accuracy: 0.6456 - val_precision_3: 0.4752 - val_recall_3: 0.4777 - val_f1_score: 0.5047 - val_auc_2: 0.6594\n"
     ]
    }
   ],
   "source": [
    "history = model.fit(x = train_ids, y = train_labels, epochs = 25, verbose = 1, batch_size = 32, validation_data = (test_ids, test_labels))"
   ]
  },
  {
   "cell_type": "code",
   "execution_count": 43,
   "metadata": {
    "execution": {
     "iopub.execute_input": "2022-06-05T18:29:40.233386Z",
     "iopub.status.busy": "2022-06-05T18:29:40.233109Z",
     "iopub.status.idle": "2022-06-05T18:29:40.590170Z",
     "shell.execute_reply": "2022-06-05T18:29:40.589420Z",
     "shell.execute_reply.started": "2022-06-05T18:29:40.233361Z"
    }
   },
   "outputs": [
    {
     "data": {
      "image/png": "[encoded data removed]",
      "text/plain": [
       "<Figure size 432x288 with 1 Axes>"
      ]
     },
     "metadata": {
      "needs_background": "light"
     },
     "output_type": "display_data"
    },
    {
     "data": {
      "image/png": "[encoded data removed]",
      "text/plain": [
       "<Figure size 432x288 with 1 Axes>"
      ]
     },
     "metadata": {
      "needs_background": "light"
     },
     "output_type": "display_data"
    }
   ],
   "source": [
    "def plot_graphs(history, string):\n",
    "    plt.plot(history.history[string])\n",
    "    plt.plot(history.history['val_'+string])\n",
    "    plt.xlabel(\"Epochs\")\n",
    "    plt.ylabel(string)\n",
    "    plt.legend([string, 'val_'+string])\n",
    "    plt.show()\n",
    "\n",
    "plot_graphs(history, 'accuracy')\n",
    "plot_graphs(history, 'loss')"
   ]
  },
  {
   "cell_type": "code",
   "execution_count": 60,
   "metadata": {
    "execution": {
     "iopub.execute_input": "2022-06-05T18:58:40.740056Z",
     "iopub.status.busy": "2022-06-05T18:58:40.739694Z",
     "iopub.status.idle": "2022-06-05T18:58:52.656092Z",
     "shell.execute_reply": "2022-06-05T18:58:52.655328Z",
     "shell.execute_reply.started": "2022-06-05T18:58:40.740026Z"
    }
   },
   "outputs": [
    {
     "name": "stdout",
     "output_type": "stream",
     "text": [
      "              precision    recall  f1-score   support\n",
      "\n",
      "     class 0       0.66      1.00      0.80      6466\n",
      "     class 1       0.00      0.00      0.00      3295\n",
      "\n",
      "    accuracy                           0.66      9761\n",
      "   macro avg       0.33      0.50      0.40      9761\n",
      "weighted avg       0.44      0.66      0.53      9761\n",
      "\n"
     ]
    },
    {
     "name": "stderr",
     "output_type": "stream",
     "text": [
      "/opt/conda/lib/python3.7/site-packages/sklearn/metrics/_classification.py:1318: UndefinedMetricWarning: Precision and F-score are ill-defined and being set to 0.0 in labels with no predicted samples. Use `zero_division` parameter to control this behavior.\n",
      "  _warn_prf(average, modifier, msg_start, len(result))\n",
      "/opt/conda/lib/python3.7/site-packages/sklearn/metrics/_classification.py:1318: UndefinedMetricWarning: Precision and F-score are ill-defined and being set to 0.0 in labels with no predicted samples. Use `zero_division` parameter to control this behavior.\n",
      "  _warn_prf(average, modifier, msg_start, len(result))\n",
      "/opt/conda/lib/python3.7/site-packages/sklearn/metrics/_classification.py:1318: UndefinedMetricWarning: Precision and F-score are ill-defined and being set to 0.0 in labels with no predicted samples. Use `zero_division` parameter to control this behavior.\n",
      "  _warn_prf(average, modifier, msg_start, len(result))\n"
     ]
    },
    {
     "data": {
      "image/png": "[encoded data removed]",
      "text/plain": [
       "<Figure size 432x288 with 2 Axes>"
      ]
     },
     "metadata": {
      "needs_background": "light"
     },
     "output_type": "display_data"
    }
   ],
   "source": [
    "y_true = test_labels\n",
    "y_pred = argmax(model.predict(test_ids),axis=1)\n",
    "\n",
    "target_names = ['class 0', 'class 1']\n",
    "print(classification_report(y_true, y_pred, target_names=target_names))\n",
    "\n",
    "cm = confusion_matrix(y_true, y_pred)\n",
    "f = sns.heatmap(cm, annot=True, fmt='d')"
   ]
  },
  {
   "cell_type": "code",
   "execution_count": 58,
   "metadata": {
    "execution": {
     "iopub.execute_input": "2022-06-05T18:58:04.590494Z",
     "iopub.status.busy": "2022-06-05T18:58:04.589979Z",
     "iopub.status.idle": "2022-06-05T18:58:04.628967Z",
     "shell.execute_reply": "2022-06-05T18:58:04.628152Z",
     "shell.execute_reply.started": "2022-06-05T18:58:04.590463Z"
    }
   },
   "outputs": [
    {
     "name": "stdout",
     "output_type": "stream",
     "text": [
      "              precision    recall  f1-score   support\n",
      "\n",
      "     class 0       0.66      1.00      0.80      6466\n",
      "     class 1       0.00      0.00      0.00      3295\n",
      "\n",
      "    accuracy                           0.66      9761\n",
      "   macro avg       0.33      0.50      0.40      9761\n",
      "weighted avg       0.44      0.66      0.53      9761\n",
      "\n"
     ]
    },
    {
     "name": "stderr",
     "output_type": "stream",
     "text": [
      "/opt/conda/lib/python3.7/site-packages/sklearn/metrics/_classification.py:1318: UndefinedMetricWarning: Precision and F-score are ill-defined and being set to 0.0 in labels with no predicted samples. Use `zero_division` parameter to control this behavior.\n",
      "  _warn_prf(average, modifier, msg_start, len(result))\n",
      "/opt/conda/lib/python3.7/site-packages/sklearn/metrics/_classification.py:1318: UndefinedMetricWarning: Precision and F-score are ill-defined and being set to 0.0 in labels with no predicted samples. Use `zero_division` parameter to control this behavior.\n",
      "  _warn_prf(average, modifier, msg_start, len(result))\n",
      "/opt/conda/lib/python3.7/site-packages/sklearn/metrics/_classification.py:1318: UndefinedMetricWarning: Precision and F-score are ill-defined and being set to 0.0 in labels with no predicted samples. Use `zero_division` parameter to control this behavior.\n",
      "  _warn_prf(average, modifier, msg_start, len(result))\n"
     ]
    }
   ],
   "source": []
  },
  {
   "cell_type": "code",
   "execution_count": 46,
   "metadata": {
    "execution": {
     "iopub.execute_input": "2022-06-05T18:32:37.303682Z",
     "iopub.status.busy": "2022-06-05T18:32:37.303320Z",
     "iopub.status.idle": "2022-06-05T18:32:37.311717Z",
     "shell.execute_reply": "2022-06-05T18:32:37.309538Z",
     "shell.execute_reply.started": "2022-06-05T18:32:37.303653Z"
    }
   },
   "outputs": [
    {
     "data": {
      "text/plain": [
       "<tf.Tensor: shape=(9761,), dtype=int64, numpy=array([0, 1, 0, ..., 0, 0, 1])>"
      ]
     },
     "execution_count": 46,
     "metadata": {},
     "output_type": "execute_result"
    }
   ],
   "source": [
    "test_labels"
   ]
  },
  {
   "cell_type": "code",
   "execution_count": null,
   "metadata": {},
   "outputs": [],
   "source": []
  }
 ],
 "metadata": {
  "kernelspec": {
   "display_name": "Python 3 (ipykernel)",
   "language": "python",
   "name": "python3"
  },
  "language_info": {
   "codemirror_mode": {
    "name": "ipython",
    "version": 3
   },
   "file_extension": ".py",
   "mimetype": "text/x-python",
   "name": "python",
   "nbconvert_exporter": "python",
   "pygments_lexer": "ipython3",
   "version": "3.7.11"
  }
 },
 "nbformat": 4,
 "nbformat_minor": 4
}
